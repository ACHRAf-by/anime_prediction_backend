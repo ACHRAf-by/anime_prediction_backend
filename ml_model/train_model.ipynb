{
  "cells": [
    {
      "cell_type": "code",
      "execution_count": 7,
      "metadata": {
        "colab": {
          "base_uri": "https://localhost:8080/"
        },
        "id": "qM-7HVVyOZb2",
        "outputId": "3368261b-5701-4a84-96e3-efbea0933fb7"
      },
      "outputs": [
        {
          "name": "stdout",
          "output_type": "stream",
          "text": [
            "1.2.1\n"
          ]
        }
      ],
      "source": [
        "import sklearn\n",
        "print(sklearn.__version__)\n",
        "import nltk\n",
        "import gensim\n",
        "import string\n",
        "import numpy as np\n",
        "import pandas as pd\n",
        "import joblib\n",
        "\n",
        "from nltk.corpus import stopwords\n",
        "from gensim.models import Word2Vec\n",
        "from nltk.stem import SnowballStemmer\n",
        "from nltk.stem import WordNetLemmatizer\n",
        "from sklearn.ensemble import RandomForestRegressor\n",
        "from sklearn.feature_extraction.text import CountVectorizer\n",
        "\n",
        "pd.options.mode.chained_assignment = None"
      ]
    },
    {
      "cell_type": "code",
      "execution_count": 8,
      "metadata": {
        "id": "wK_rMf0JOd82"
      },
      "outputs": [],
      "source": [
        "df = pd.read_csv('../row_dataset/Anime_data.csv')\n",
        "df = df.drop(columns=['Anime_id', 'ScoredBy', 'Popularity', 'Members', 'Episodes', 'Episodes', 'Aired', 'Link'])"
      ]
    },
    {
      "cell_type": "code",
      "execution_count": 9,
      "metadata": {
        "colab": {
          "base_uri": "https://localhost:8080/"
        },
        "id": "TGouS6WwOpOi",
        "outputId": "7324c9a0-2498-4d49-b3fb-01a3db819a11"
      },
      "outputs": [
        {
          "data": {
            "text/plain": [
              "(17002, 8)"
            ]
          },
          "execution_count": 9,
          "metadata": {},
          "output_type": "execute_result"
        }
      ],
      "source": [
        "df.shape"
      ]
    },
    {
      "cell_type": "code",
      "execution_count": 10,
      "metadata": {
        "colab": {
          "base_uri": "https://localhost:8080/",
          "height": 206
        },
        "id": "Dg4e_dihO727",
        "outputId": "ad63634f-3a54-4a1d-9368-f162e0bcf590"
      },
      "outputs": [
        {
          "data": {
            "text/html": [
              "<div>\n",
              "<style scoped>\n",
              "    .dataframe tbody tr th:only-of-type {\n",
              "        vertical-align: middle;\n",
              "    }\n",
              "\n",
              "    .dataframe tbody tr th {\n",
              "        vertical-align: top;\n",
              "    }\n",
              "\n",
              "    .dataframe thead th {\n",
              "        text-align: right;\n",
              "    }\n",
              "</style>\n",
              "<table border=\"1\" class=\"dataframe\">\n",
              "  <thead>\n",
              "    <tr style=\"text-align: right;\">\n",
              "      <th></th>\n",
              "      <th>Title</th>\n",
              "      <th>Genre</th>\n",
              "      <th>Synopsis</th>\n",
              "      <th>Type</th>\n",
              "      <th>Producer</th>\n",
              "      <th>Studio</th>\n",
              "      <th>Rating</th>\n",
              "      <th>Source</th>\n",
              "    </tr>\n",
              "  </thead>\n",
              "  <tbody>\n",
              "    <tr>\n",
              "      <th>0</th>\n",
              "      <td>Cowboy Bebop</td>\n",
              "      <td>['Action', 'Adventure', 'Comedy', 'Drama', 'Sc...</td>\n",
              "      <td>In the year 2071, humanity has colonized sever...</td>\n",
              "      <td>TV</td>\n",
              "      <td>['Bandai Visual']</td>\n",
              "      <td>['Sunrise']</td>\n",
              "      <td>8.81</td>\n",
              "      <td>Original</td>\n",
              "    </tr>\n",
              "    <tr>\n",
              "      <th>1</th>\n",
              "      <td>Cowboy Bebop: Tengoku no Tobira</td>\n",
              "      <td>['Action', 'Space', 'Drama', 'Mystery', 'Sci-Fi']</td>\n",
              "      <td>Another day, another bounty—such is the life o...</td>\n",
              "      <td>Movie</td>\n",
              "      <td>['Sunrise', 'Bandai Visual']</td>\n",
              "      <td>['Bones']</td>\n",
              "      <td>8.41</td>\n",
              "      <td>Original</td>\n",
              "    </tr>\n",
              "    <tr>\n",
              "      <th>2</th>\n",
              "      <td>Trigun</td>\n",
              "      <td>['Action', 'Sci-Fi', 'Adventure', 'Comedy', 'D...</td>\n",
              "      <td>Vash the Stampede is the man with a $$60,000,0...</td>\n",
              "      <td>TV</td>\n",
              "      <td>['Victor Entertainment']</td>\n",
              "      <td>['Madhouse']</td>\n",
              "      <td>8.31</td>\n",
              "      <td>Manga</td>\n",
              "    </tr>\n",
              "    <tr>\n",
              "      <th>3</th>\n",
              "      <td>Witch Hunter Robin</td>\n",
              "      <td>['Action', 'Magic', 'Police', 'Supernatural', ...</td>\n",
              "      <td>Witches are individuals with special powers li...</td>\n",
              "      <td>TV</td>\n",
              "      <td>['Bandai Visual']</td>\n",
              "      <td>['Sunrise']</td>\n",
              "      <td>7.34</td>\n",
              "      <td>Original</td>\n",
              "    </tr>\n",
              "    <tr>\n",
              "      <th>4</th>\n",
              "      <td>Bouken Ou Beet</td>\n",
              "      <td>['Adventure', 'Fantasy', 'Shounen', 'Supernatu...</td>\n",
              "      <td>It is the dark century and the people are suff...</td>\n",
              "      <td>TV</td>\n",
              "      <td>NaN</td>\n",
              "      <td>['Toei Animation']</td>\n",
              "      <td>7.04</td>\n",
              "      <td>Manga</td>\n",
              "    </tr>\n",
              "  </tbody>\n",
              "</table>\n",
              "</div>"
            ],
            "text/plain": [
              "                             Title  \\\n",
              "0                     Cowboy Bebop   \n",
              "1  Cowboy Bebop: Tengoku no Tobira   \n",
              "2                           Trigun   \n",
              "3               Witch Hunter Robin   \n",
              "4                   Bouken Ou Beet   \n",
              "\n",
              "                                               Genre  \\\n",
              "0  ['Action', 'Adventure', 'Comedy', 'Drama', 'Sc...   \n",
              "1  ['Action', 'Space', 'Drama', 'Mystery', 'Sci-Fi']   \n",
              "2  ['Action', 'Sci-Fi', 'Adventure', 'Comedy', 'D...   \n",
              "3  ['Action', 'Magic', 'Police', 'Supernatural', ...   \n",
              "4  ['Adventure', 'Fantasy', 'Shounen', 'Supernatu...   \n",
              "\n",
              "                                            Synopsis   Type  \\\n",
              "0  In the year 2071, humanity has colonized sever...     TV   \n",
              "1  Another day, another bounty—such is the life o...  Movie   \n",
              "2  Vash the Stampede is the man with a $$60,000,0...     TV   \n",
              "3  Witches are individuals with special powers li...     TV   \n",
              "4  It is the dark century and the people are suff...     TV   \n",
              "\n",
              "                       Producer              Studio  Rating    Source  \n",
              "0             ['Bandai Visual']         ['Sunrise']    8.81  Original  \n",
              "1  ['Sunrise', 'Bandai Visual']           ['Bones']    8.41  Original  \n",
              "2      ['Victor Entertainment']        ['Madhouse']    8.31     Manga  \n",
              "3             ['Bandai Visual']         ['Sunrise']    7.34  Original  \n",
              "4                           NaN  ['Toei Animation']    7.04     Manga  "
            ]
          },
          "execution_count": 10,
          "metadata": {},
          "output_type": "execute_result"
        }
      ],
      "source": [
        "df.head()"
      ]
    },
    {
      "cell_type": "code",
      "execution_count": 11,
      "metadata": {
        "colab": {
          "base_uri": "https://localhost:8080/"
        },
        "id": "EoprzNSoO8pN",
        "outputId": "15fa287e-0aba-4e12-ccfe-afc988dfce73"
      },
      "outputs": [
        {
          "data": {
            "text/plain": [
              "Title        object\n",
              "Genre        object\n",
              "Synopsis     object\n",
              "Type         object\n",
              "Producer     object\n",
              "Studio       object\n",
              "Rating      float64\n",
              "Source       object\n",
              "dtype: object"
            ]
          },
          "execution_count": 11,
          "metadata": {},
          "output_type": "execute_result"
        }
      ],
      "source": [
        "df.dtypes"
      ]
    },
    {
      "cell_type": "code",
      "execution_count": 12,
      "metadata": {
        "colab": {
          "base_uri": "https://localhost:8080/"
        },
        "id": "7_8qIHo8O9iu",
        "outputId": "ae434e7b-2e18-4841-fef7-32f1431ae324"
      },
      "outputs": [
        {
          "data": {
            "text/plain": [
              "Index(['Title', 'Genre', 'Synopsis', 'Type', 'Producer', 'Studio', 'Rating',\n",
              "       'Source'],\n",
              "      dtype='object')"
            ]
          },
          "execution_count": 12,
          "metadata": {},
          "output_type": "execute_result"
        }
      ],
      "source": [
        "df.columns"
      ]
    },
    {
      "cell_type": "code",
      "execution_count": 13,
      "metadata": {
        "colab": {
          "base_uri": "https://localhost:8080/"
        },
        "id": "jNxqPahrO-VT",
        "outputId": "ed93c58e-b912-4b20-c4ae-3e1679032443"
      },
      "outputs": [
        {
          "data": {
            "text/plain": [
              "Title          0\n",
              "Genre       2012\n",
              "Synopsis    1419\n",
              "Type         634\n",
              "Producer    9367\n",
              "Studio      9083\n",
              "Rating      2577\n",
              "Source      1927\n",
              "dtype: int64"
            ]
          },
          "execution_count": 13,
          "metadata": {},
          "output_type": "execute_result"
        }
      ],
      "source": [
        "df.isna().sum()"
      ]
    },
    {
      "cell_type": "code",
      "execution_count": 14,
      "metadata": {
        "id": "LAfxP_6nPC6w"
      },
      "outputs": [],
      "source": [
        "# Handling missing values\n",
        "df = df[(df['Rating'].notnull()) & (df['Source'].notnull()) & (df['Synopsis'].notnull())]\n",
        "\n",
        "df.loc[df['Producer'].isna(), 'Producer'] = 'unknown'\n",
        "df.loc[df['Studio'].isna(), 'Studio'] = 'unknown'"
      ]
    },
    {
      "cell_type": "code",
      "execution_count": 15,
      "metadata": {
        "id": "-b8Pvh0OPK8u"
      },
      "outputs": [],
      "source": [
        "# Converting categorical variables into numerical values\n",
        "df['Type_orig'] = df['Type']\n",
        "df['Source_orig'] = df['Source']\n",
        "# df['Producer_orig'] = df['Producer']\n",
        "# df['Studio_orig'] = df['Studio']\n",
        "\n",
        "# Factorize the columns\n",
        "df['Type'] = pd.factorize(df['Type'])[0]\n",
        "df['Source'] = pd.factorize(df['Source'])[0]\n",
        "# df['Producer'] = pd.factorize(df['Producer'])[0]\n",
        "# df['Studio'] = pd.factorize(df['Studio'])[0]"
      ]
    },
    {
      "cell_type": "code",
      "execution_count": 16,
      "metadata": {
        "id": "R5ctrEGYe_RO"
      },
      "outputs": [],
      "source": [
        "df_type = df[['Type_orig', 'Type']].drop_duplicates()\n",
        "df_source = df[['Source_orig', 'Source']].drop_duplicates()\n",
        "# df_producer = df[['Producer_orig', 'Producer']].drop_duplicates()\n",
        "# df_studio = df[['Studio_orig', 'Studio']].drop_duplicates()"
      ]
    },
    {
      "cell_type": "code",
      "execution_count": 17,
      "metadata": {
        "colab": {
          "base_uri": "https://localhost:8080/",
          "height": 238
        },
        "id": "GYZlQgLdf0U5",
        "outputId": "0e0765de-5f72-473b-c226-158b4b59514f"
      },
      "outputs": [
        {
          "data": {
            "text/html": [
              "<div>\n",
              "<style scoped>\n",
              "    .dataframe tbody tr th:only-of-type {\n",
              "        vertical-align: middle;\n",
              "    }\n",
              "\n",
              "    .dataframe tbody tr th {\n",
              "        vertical-align: top;\n",
              "    }\n",
              "\n",
              "    .dataframe thead th {\n",
              "        text-align: right;\n",
              "    }\n",
              "</style>\n",
              "<table border=\"1\" class=\"dataframe\">\n",
              "  <thead>\n",
              "    <tr style=\"text-align: right;\">\n",
              "      <th></th>\n",
              "      <th>Type_orig</th>\n",
              "      <th>Type</th>\n",
              "    </tr>\n",
              "  </thead>\n",
              "  <tbody>\n",
              "    <tr>\n",
              "      <th>0</th>\n",
              "      <td>TV</td>\n",
              "      <td>0</td>\n",
              "    </tr>\n",
              "    <tr>\n",
              "      <th>1</th>\n",
              "      <td>Movie</td>\n",
              "      <td>1</td>\n",
              "    </tr>\n",
              "    <tr>\n",
              "      <th>26</th>\n",
              "      <td>OVA</td>\n",
              "      <td>2</td>\n",
              "    </tr>\n",
              "    <tr>\n",
              "      <th>175</th>\n",
              "      <td>Special</td>\n",
              "      <td>3</td>\n",
              "    </tr>\n",
              "    <tr>\n",
              "      <th>486</th>\n",
              "      <td>ONA</td>\n",
              "      <td>4</td>\n",
              "    </tr>\n",
              "    <tr>\n",
              "      <th>609</th>\n",
              "      <td>Music</td>\n",
              "      <td>5</td>\n",
              "    </tr>\n",
              "  </tbody>\n",
              "</table>\n",
              "</div>"
            ],
            "text/plain": [
              "    Type_orig  Type\n",
              "0          TV     0\n",
              "1       Movie     1\n",
              "26        OVA     2\n",
              "175   Special     3\n",
              "486       ONA     4\n",
              "609     Music     5"
            ]
          },
          "execution_count": 17,
          "metadata": {},
          "output_type": "execute_result"
        }
      ],
      "source": [
        "df_type"
      ]
    },
    {
      "cell_type": "code",
      "execution_count": 18,
      "metadata": {
        "colab": {
          "base_uri": "https://localhost:8080/",
          "height": 551
        },
        "id": "yIc7TfOhf3A1",
        "outputId": "89ced42b-2d4a-46cb-ca8d-8486cd488773"
      },
      "outputs": [
        {
          "data": {
            "text/html": [
              "<div>\n",
              "<style scoped>\n",
              "    .dataframe tbody tr th:only-of-type {\n",
              "        vertical-align: middle;\n",
              "    }\n",
              "\n",
              "    .dataframe tbody tr th {\n",
              "        vertical-align: top;\n",
              "    }\n",
              "\n",
              "    .dataframe thead th {\n",
              "        text-align: right;\n",
              "    }\n",
              "</style>\n",
              "<table border=\"1\" class=\"dataframe\">\n",
              "  <thead>\n",
              "    <tr style=\"text-align: right;\">\n",
              "      <th></th>\n",
              "      <th>Source_orig</th>\n",
              "      <th>Source</th>\n",
              "    </tr>\n",
              "  </thead>\n",
              "  <tbody>\n",
              "    <tr>\n",
              "      <th>0</th>\n",
              "      <td>Original</td>\n",
              "      <td>0</td>\n",
              "    </tr>\n",
              "    <tr>\n",
              "      <th>2</th>\n",
              "      <td>Manga</td>\n",
              "      <td>1</td>\n",
              "    </tr>\n",
              "    <tr>\n",
              "      <th>18</th>\n",
              "      <td>Light novel</td>\n",
              "      <td>2</td>\n",
              "    </tr>\n",
              "    <tr>\n",
              "      <th>37</th>\n",
              "      <td>Game</td>\n",
              "      <td>3</td>\n",
              "    </tr>\n",
              "    <tr>\n",
              "      <th>45</th>\n",
              "      <td>Visual novel</td>\n",
              "      <td>4</td>\n",
              "    </tr>\n",
              "    <tr>\n",
              "      <th>49</th>\n",
              "      <td>4-koma manga</td>\n",
              "      <td>5</td>\n",
              "    </tr>\n",
              "    <tr>\n",
              "      <th>69</th>\n",
              "      <td>Novel</td>\n",
              "      <td>6</td>\n",
              "    </tr>\n",
              "    <tr>\n",
              "      <th>71</th>\n",
              "      <td>Unknown</td>\n",
              "      <td>7</td>\n",
              "    </tr>\n",
              "    <tr>\n",
              "      <th>151</th>\n",
              "      <td>Other</td>\n",
              "      <td>8</td>\n",
              "    </tr>\n",
              "    <tr>\n",
              "      <th>284</th>\n",
              "      <td>Picture book</td>\n",
              "      <td>9</td>\n",
              "    </tr>\n",
              "    <tr>\n",
              "      <th>361</th>\n",
              "      <td>Web manga</td>\n",
              "      <td>10</td>\n",
              "    </tr>\n",
              "    <tr>\n",
              "      <th>609</th>\n",
              "      <td>Music</td>\n",
              "      <td>11</td>\n",
              "    </tr>\n",
              "    <tr>\n",
              "      <th>623</th>\n",
              "      <td>Book</td>\n",
              "      <td>12</td>\n",
              "    </tr>\n",
              "    <tr>\n",
              "      <th>1833</th>\n",
              "      <td>Card game</td>\n",
              "      <td>13</td>\n",
              "    </tr>\n",
              "    <tr>\n",
              "      <th>2119</th>\n",
              "      <td>Radio</td>\n",
              "      <td>14</td>\n",
              "    </tr>\n",
              "    <tr>\n",
              "      <th>8723</th>\n",
              "      <td>Digital manga</td>\n",
              "      <td>15</td>\n",
              "    </tr>\n",
              "  </tbody>\n",
              "</table>\n",
              "</div>"
            ],
            "text/plain": [
              "        Source_orig  Source\n",
              "0          Original       0\n",
              "2             Manga       1\n",
              "18      Light novel       2\n",
              "37             Game       3\n",
              "45     Visual novel       4\n",
              "49     4-koma manga       5\n",
              "69            Novel       6\n",
              "71          Unknown       7\n",
              "151           Other       8\n",
              "284    Picture book       9\n",
              "361       Web manga      10\n",
              "609           Music      11\n",
              "623            Book      12\n",
              "1833      Card game      13\n",
              "2119          Radio      14\n",
              "8723  Digital manga      15"
            ]
          },
          "execution_count": 18,
          "metadata": {},
          "output_type": "execute_result"
        }
      ],
      "source": [
        "df_source"
      ]
    },
    {
      "cell_type": "code",
      "execution_count": 19,
      "metadata": {
        "colab": {
          "base_uri": "https://localhost:8080/"
        },
        "id": "SX1C95ioDpL4",
        "outputId": "fb228d64-adf3-41ee-e3c3-cb9e0904f14f"
      },
      "outputs": [
        {
          "data": {
            "text/plain": [
              "0    ['Action', 'Adventure', 'Comedy', 'Drama', 'Sc...\n",
              "1    ['Action', 'Space', 'Drama', 'Mystery', 'Sci-Fi']\n",
              "2    ['Action', 'Sci-Fi', 'Adventure', 'Comedy', 'D...\n",
              "3    ['Action', 'Magic', 'Police', 'Supernatural', ...\n",
              "4    ['Adventure', 'Fantasy', 'Shounen', 'Supernatu...\n",
              "Name: Genre, dtype: object"
            ]
          },
          "execution_count": 19,
          "metadata": {},
          "output_type": "execute_result"
        }
      ],
      "source": [
        "df['Genre'].head()"
      ]
    },
    {
      "cell_type": "code",
      "execution_count": 20,
      "metadata": {
        "id": "i5f48tLpPO87"
      },
      "outputs": [],
      "source": [
        "# Replace missing values in the Genre column with an empty list\n",
        "df['Genre'].fillna(value='[]', inplace=True)\n",
        "\n",
        "# Converting the genre column to a list of genres\n",
        "df['Genre'] = df['Genre'].apply(eval)"
      ]
    },
    {
      "cell_type": "code",
      "execution_count": 21,
      "metadata": {
        "colab": {
          "base_uri": "https://localhost:8080/"
        },
        "id": "GgZCJF_he5dU",
        "outputId": "9239da0d-070b-49b4-c105-74eae1daff2b"
      },
      "outputs": [
        {
          "data": {
            "text/plain": [
              "0    [Action, Adventure, Comedy, Drama, Sci-Fi, Space]\n",
              "1              [Action, Space, Drama, Mystery, Sci-Fi]\n",
              "2    [Action, Sci-Fi, Adventure, Comedy, Drama, Sho...\n",
              "3    [Action, Magic, Police, Supernatural, Drama, M...\n",
              "4          [Adventure, Fantasy, Shounen, Supernatural]\n",
              "Name: Genre, dtype: object"
            ]
          },
          "execution_count": 21,
          "metadata": {},
          "output_type": "execute_result"
        }
      ],
      "source": [
        "df['Genre'].head()"
      ]
    },
    {
      "cell_type": "code",
      "execution_count": 22,
      "metadata": {
        "colab": {
          "base_uri": "https://localhost:8080/"
        },
        "id": "qku9KseMfDK5",
        "outputId": "fc3a8d27-0b0a-47fc-b869-5aa74bf97b7a"
      },
      "outputs": [
        {
          "data": {
            "text/plain": [
              "dtype('O')"
            ]
          },
          "execution_count": 22,
          "metadata": {},
          "output_type": "execute_result"
        }
      ],
      "source": [
        "df['Genre'].dtypes"
      ]
    },
    {
      "cell_type": "code",
      "execution_count": 23,
      "metadata": {
        "id": "sW3NHmUBPVlz"
      },
      "outputs": [],
      "source": [
        "# Performing one-hot encoding on the genre column\n",
        "genres = set(g for genres in df['Genre'] for g in genres)\n",
        "for genre in genres:\n",
        "    df[genre] = df['Genre'].apply(lambda x: 1 if genre in x else 0)"
      ]
    },
    {
      "cell_type": "code",
      "execution_count": 24,
      "metadata": {
        "colab": {
          "base_uri": "https://localhost:8080/",
          "height": 236
        },
        "id": "hNP44jwvPZW6",
        "outputId": "a52eb098-9c79-49f3-974a-3fd106b0d832"
      },
      "outputs": [
        {
          "data": {
            "text/html": [
              "<div>\n",
              "<style scoped>\n",
              "    .dataframe tbody tr th:only-of-type {\n",
              "        vertical-align: middle;\n",
              "    }\n",
              "\n",
              "    .dataframe tbody tr th {\n",
              "        vertical-align: top;\n",
              "    }\n",
              "\n",
              "    .dataframe thead th {\n",
              "        text-align: right;\n",
              "    }\n",
              "</style>\n",
              "<table border=\"1\" class=\"dataframe\">\n",
              "  <thead>\n",
              "    <tr style=\"text-align: right;\">\n",
              "      <th></th>\n",
              "      <th>Title</th>\n",
              "      <th>Synopsis</th>\n",
              "      <th>Type</th>\n",
              "      <th>Producer</th>\n",
              "      <th>Studio</th>\n",
              "      <th>Rating</th>\n",
              "      <th>Source</th>\n",
              "      <th>Type_orig</th>\n",
              "      <th>Source_orig</th>\n",
              "      <th>Dementia</th>\n",
              "      <th>...</th>\n",
              "      <th>Sci-Fi</th>\n",
              "      <th>Supernatural</th>\n",
              "      <th>Police</th>\n",
              "      <th>Thriller</th>\n",
              "      <th>Josei</th>\n",
              "      <th>Cars</th>\n",
              "      <th>Music</th>\n",
              "      <th>Vampire</th>\n",
              "      <th>Shoujo Ai</th>\n",
              "      <th>Historical</th>\n",
              "    </tr>\n",
              "  </thead>\n",
              "  <tbody>\n",
              "    <tr>\n",
              "      <th>0</th>\n",
              "      <td>Cowboy Bebop</td>\n",
              "      <td>In the year 2071, humanity has colonized sever...</td>\n",
              "      <td>0</td>\n",
              "      <td>['Bandai Visual']</td>\n",
              "      <td>['Sunrise']</td>\n",
              "      <td>8.81</td>\n",
              "      <td>0</td>\n",
              "      <td>TV</td>\n",
              "      <td>Original</td>\n",
              "      <td>0</td>\n",
              "      <td>...</td>\n",
              "      <td>1</td>\n",
              "      <td>0</td>\n",
              "      <td>0</td>\n",
              "      <td>0</td>\n",
              "      <td>0</td>\n",
              "      <td>0</td>\n",
              "      <td>0</td>\n",
              "      <td>0</td>\n",
              "      <td>0</td>\n",
              "      <td>0</td>\n",
              "    </tr>\n",
              "    <tr>\n",
              "      <th>1</th>\n",
              "      <td>Cowboy Bebop: Tengoku no Tobira</td>\n",
              "      <td>Another day, another bounty—such is the life o...</td>\n",
              "      <td>1</td>\n",
              "      <td>['Sunrise', 'Bandai Visual']</td>\n",
              "      <td>['Bones']</td>\n",
              "      <td>8.41</td>\n",
              "      <td>0</td>\n",
              "      <td>Movie</td>\n",
              "      <td>Original</td>\n",
              "      <td>0</td>\n",
              "      <td>...</td>\n",
              "      <td>1</td>\n",
              "      <td>0</td>\n",
              "      <td>0</td>\n",
              "      <td>0</td>\n",
              "      <td>0</td>\n",
              "      <td>0</td>\n",
              "      <td>0</td>\n",
              "      <td>0</td>\n",
              "      <td>0</td>\n",
              "      <td>0</td>\n",
              "    </tr>\n",
              "    <tr>\n",
              "      <th>2</th>\n",
              "      <td>Trigun</td>\n",
              "      <td>Vash the Stampede is the man with a $$60,000,0...</td>\n",
              "      <td>0</td>\n",
              "      <td>['Victor Entertainment']</td>\n",
              "      <td>['Madhouse']</td>\n",
              "      <td>8.31</td>\n",
              "      <td>1</td>\n",
              "      <td>TV</td>\n",
              "      <td>Manga</td>\n",
              "      <td>0</td>\n",
              "      <td>...</td>\n",
              "      <td>1</td>\n",
              "      <td>0</td>\n",
              "      <td>0</td>\n",
              "      <td>0</td>\n",
              "      <td>0</td>\n",
              "      <td>0</td>\n",
              "      <td>0</td>\n",
              "      <td>0</td>\n",
              "      <td>0</td>\n",
              "      <td>0</td>\n",
              "    </tr>\n",
              "    <tr>\n",
              "      <th>3</th>\n",
              "      <td>Witch Hunter Robin</td>\n",
              "      <td>Witches are individuals with special powers li...</td>\n",
              "      <td>0</td>\n",
              "      <td>['Bandai Visual']</td>\n",
              "      <td>['Sunrise']</td>\n",
              "      <td>7.34</td>\n",
              "      <td>0</td>\n",
              "      <td>TV</td>\n",
              "      <td>Original</td>\n",
              "      <td>0</td>\n",
              "      <td>...</td>\n",
              "      <td>0</td>\n",
              "      <td>1</td>\n",
              "      <td>1</td>\n",
              "      <td>0</td>\n",
              "      <td>0</td>\n",
              "      <td>0</td>\n",
              "      <td>0</td>\n",
              "      <td>0</td>\n",
              "      <td>0</td>\n",
              "      <td>0</td>\n",
              "    </tr>\n",
              "    <tr>\n",
              "      <th>4</th>\n",
              "      <td>Bouken Ou Beet</td>\n",
              "      <td>It is the dark century and the people are suff...</td>\n",
              "      <td>0</td>\n",
              "      <td>unknown</td>\n",
              "      <td>['Toei Animation']</td>\n",
              "      <td>7.04</td>\n",
              "      <td>1</td>\n",
              "      <td>TV</td>\n",
              "      <td>Manga</td>\n",
              "      <td>0</td>\n",
              "      <td>...</td>\n",
              "      <td>0</td>\n",
              "      <td>1</td>\n",
              "      <td>0</td>\n",
              "      <td>0</td>\n",
              "      <td>0</td>\n",
              "      <td>0</td>\n",
              "      <td>0</td>\n",
              "      <td>0</td>\n",
              "      <td>0</td>\n",
              "      <td>0</td>\n",
              "    </tr>\n",
              "  </tbody>\n",
              "</table>\n",
              "<p>5 rows × 52 columns</p>\n",
              "</div>"
            ],
            "text/plain": [
              "                             Title  \\\n",
              "0                     Cowboy Bebop   \n",
              "1  Cowboy Bebop: Tengoku no Tobira   \n",
              "2                           Trigun   \n",
              "3               Witch Hunter Robin   \n",
              "4                   Bouken Ou Beet   \n",
              "\n",
              "                                            Synopsis  Type  \\\n",
              "0  In the year 2071, humanity has colonized sever...     0   \n",
              "1  Another day, another bounty—such is the life o...     1   \n",
              "2  Vash the Stampede is the man with a $$60,000,0...     0   \n",
              "3  Witches are individuals with special powers li...     0   \n",
              "4  It is the dark century and the people are suff...     0   \n",
              "\n",
              "                       Producer              Studio  Rating  Source Type_orig  \\\n",
              "0             ['Bandai Visual']         ['Sunrise']    8.81       0        TV   \n",
              "1  ['Sunrise', 'Bandai Visual']           ['Bones']    8.41       0     Movie   \n",
              "2      ['Victor Entertainment']        ['Madhouse']    8.31       1        TV   \n",
              "3             ['Bandai Visual']         ['Sunrise']    7.34       0        TV   \n",
              "4                       unknown  ['Toei Animation']    7.04       1        TV   \n",
              "\n",
              "  Source_orig  Dementia  ...  Sci-Fi  Supernatural  Police  Thriller  Josei  \\\n",
              "0    Original         0  ...       1             0       0         0      0   \n",
              "1    Original         0  ...       1             0       0         0      0   \n",
              "2       Manga         0  ...       1             0       0         0      0   \n",
              "3    Original         0  ...       0             1       1         0      0   \n",
              "4       Manga         0  ...       0             1       0         0      0   \n",
              "\n",
              "   Cars  Music  Vampire  Shoujo Ai  Historical  \n",
              "0     0      0        0          0           0  \n",
              "1     0      0        0          0           0  \n",
              "2     0      0        0          0           0  \n",
              "3     0      0        0          0           0  \n",
              "4     0      0        0          0           0  \n",
              "\n",
              "[5 rows x 52 columns]"
            ]
          },
          "execution_count": 24,
          "metadata": {},
          "output_type": "execute_result"
        }
      ],
      "source": [
        "# Dropping the original genre column\n",
        "df.drop('Genre', axis=1, inplace=True)\n",
        "\n",
        "df.head()"
      ]
    },
    {
      "cell_type": "code",
      "execution_count": 25,
      "metadata": {
        "id": "K2HY0un1PcEn"
      },
      "outputs": [],
      "source": [
        "# Define the pre-processing functions\n",
        "def remove_punctuation(text):\n",
        "    return text.translate(str.maketrans('', '', string.punctuation))\n",
        "\n",
        "def remove_stopwords(text):\n",
        "  stop_words = set(stopwords.words('english')) \n",
        "  return ' '.join([word for word in text.split() if word not in stop_words])\n",
        "\n",
        "def stem_text(text):\n",
        "  stemmer = SnowballStemmer('english')\n",
        "  return ' '.join([stemmer.stem(word) for word in text.split()])\n",
        "\n",
        "def lemmatize_text(text):\n",
        "  lemmatizer = WordNetLemmatizer()\n",
        "  return ' '.join([lemmatizer.lemmatize(word) for word in text.split()])\n"
      ]
    },
    {
      "cell_type": "code",
      "execution_count": 26,
      "metadata": {
        "colab": {
          "base_uri": "https://localhost:8080/"
        },
        "id": "zD1dGHQ2PefA",
        "outputId": "412598c9-01f4-43b5-cdec-469f37e41ee0"
      },
      "outputs": [
        {
          "name": "stderr",
          "output_type": "stream",
          "text": [
            "[nltk_data] Downloading package stopwords to\n",
            "[nltk_data]     C:\\Users\\jeanv\\AppData\\Roaming\\nltk_data...\n",
            "[nltk_data]   Package stopwords is already up-to-date!\n",
            "[nltk_data] Downloading package wordnet to\n",
            "[nltk_data]     C:\\Users\\jeanv\\AppData\\Roaming\\nltk_data...\n",
            "[nltk_data]   Package wordnet is already up-to-date!\n",
            "[nltk_data] Downloading package omw-1.4 to\n",
            "[nltk_data]     C:\\Users\\jeanv\\AppData\\Roaming\\nltk_data...\n",
            "[nltk_data]   Package omw-1.4 is already up-to-date!\n"
          ]
        }
      ],
      "source": [
        "nltk.download('stopwords')\n",
        "nltk.download('wordnet')\n",
        "nltk.download('omw-1.4')\n",
        "\n",
        "# Preprocess the Synopsis of the anime\n",
        "df['preprocessed_synopsis'] = df['Synopsis'].apply(lambda x: x.lower() if isinstance(x, str) else x)\n",
        "df['preprocessed_synopsis'] = df['preprocessed_synopsis'].apply(remove_punctuation)\n",
        "df['preprocessed_synopsis'] = df['preprocessed_synopsis'].apply(remove_stopwords)\n",
        "df['preprocessed_synopsis'] = df['preprocessed_synopsis'].apply(stem_text)\n",
        "df['preprocessed_synopsis'] = df['preprocessed_synopsis'].apply(lemmatize_text)"
      ]
    },
    {
      "cell_type": "code",
      "execution_count": 27,
      "metadata": {
        "id": "O0_LZ86JVi7E"
      },
      "outputs": [],
      "source": [
        "# Preprocess the Synopsis of the anime\n",
        "df['Title'] = df['Title'].astype('str')\n",
        "\n",
        "df['preprocessed_Title'] = df['Title'].apply(lambda x: x.lower() if isinstance(x, str) else x)\n",
        "df['preprocessed_Title'] = df['preprocessed_Title'].apply(remove_punctuation)\n",
        "df['preprocessed_Title'] = df['preprocessed_Title'].apply(remove_stopwords)\n",
        "df['preprocessed_Title'] = df['preprocessed_Title'].apply(stem_text)\n",
        "df['preprocessed_Title'] = df['preprocessed_Title'].apply(lemmatize_text)"
      ]
    },
    {
      "cell_type": "code",
      "execution_count": 28,
      "metadata": {
        "id": "mLBMJuitgfyO"
      },
      "outputs": [],
      "source": [
        "# Preprocess the Synopsis of the anime\n",
        "df['Producer'] = df['Producer'].astype('str')\n",
        "\n",
        "df['preprocessed_Producer'] = df['Producer'].apply(lambda x: x.lower() if isinstance(x, str) else x)\n",
        "df['preprocessed_Producer'] = df['preprocessed_Producer'].apply(remove_punctuation)\n",
        "df['preprocessed_Producer'] = df['preprocessed_Producer'].apply(remove_stopwords)\n",
        "df['preprocessed_Producer'] = df['preprocessed_Producer'].apply(stem_text)\n",
        "df['preprocessed_Producer'] = df['preprocessed_Producer'].apply(lemmatize_text)"
      ]
    },
    {
      "cell_type": "code",
      "execution_count": 29,
      "metadata": {
        "id": "PHSIgXu0h0eJ"
      },
      "outputs": [],
      "source": [
        "# Preprocess the Synopsis of the anime\n",
        "df['Studio'] = df['Studio'].astype('str')\n",
        "\n",
        "df['preprocessed_Studio'] = df['Studio'].apply(lambda x: x.lower() if isinstance(x, str) else x)\n",
        "df['preprocessed_Studio'] = df['preprocessed_Studio'].apply(remove_punctuation)\n",
        "df['preprocessed_Studio'] = df['preprocessed_Studio'].apply(remove_stopwords)\n",
        "df['preprocessed_Studio'] = df['preprocessed_Studio'].apply(stem_text)\n",
        "df['preprocessed_Studio'] = df['preprocessed_Studio'].apply(lemmatize_text)"
      ]
    },
    {
      "cell_type": "code",
      "execution_count": 30,
      "metadata": {
        "id": "KCVL2wJJWWHJ"
      },
      "outputs": [],
      "source": [
        "# Convert the preprocessed synopsis into a list of tokenized sentences\n",
        "sentences_synopsis = [synopsis.split() for synopsis in df['preprocessed_synopsis']]\n",
        "sentences_Title = [title.split() for title in df['preprocessed_Title']]\n",
        "sentences_Producer = [producer.split() for producer in df['preprocessed_Producer']]\n",
        "sentences_Studio = [studio.split() for studio in df['preprocessed_Studio']]"
      ]
    },
    {
      "cell_type": "code",
      "execution_count": 31,
      "metadata": {
        "colab": {
          "base_uri": "https://localhost:8080/"
        },
        "id": "F-bC58B5P03M",
        "outputId": "44a8c24f-e52c-40bc-e1e2-ec20a6bdf47f"
      },
      "outputs": [],
      "source": [
        "# Train a Word2Vec model on the tokenized sentences\n",
        "w2v_model_synopsis = gensim.models.Word2Vec(sentences=sentences_synopsis, vector_size=100, window=5, min_count=1, workers=-1)\n",
        "w2v_model_title = gensim.models.Word2Vec(sentences=sentences_Title, vector_size=100, window=5, min_count=1, workers=-1)\n",
        "w2v_model_producer = gensim.models.Word2Vec(sentences=sentences_Producer, vector_size=100, window=5, min_count=1, workers=-1)\n",
        "w2v_model_studio = gensim.models.Word2Vec(sentences=sentences_Studio, vector_size=100, window=5, min_count=1, workers=-1)"
      ]
    },
    {
      "cell_type": "code",
      "execution_count": 32,
      "metadata": {
        "colab": {
          "base_uri": "https://localhost:8080/"
        },
        "id": "Wsy6JzJLQQ4C",
        "outputId": "799d98c0-38a7-413e-aa6a-2e5b8300dcf1"
      },
      "outputs": [
        {
          "data": {
            "text/plain": [
              "['w2v_model_studio.pkl']"
            ]
          },
          "execution_count": 32,
          "metadata": {},
          "output_type": "execute_result"
        }
      ],
      "source": [
        "joblib.dump(w2v_model_synopsis, 'w2v_model_synopsis.pkl')\n",
        "joblib.dump(w2v_model_title, 'w2v_model_title.pkl')\n",
        "joblib.dump(w2v_model_producer, 'w2v_model_producer.pkl')\n",
        "joblib.dump(w2v_model_studio, 'w2v_model_studio.pkl')"
      ]
    },
    {
      "cell_type": "code",
      "execution_count": 33,
      "metadata": {
        "id": "zs6G2tvzP6HP"
      },
      "outputs": [],
      "source": [
        "# Convert each synopsis into a numeric vector using the trained Word2Vec model\n",
        "def vectorize_synopsis(synopsis):\n",
        "    tokens = synopsis.split()\n",
        "    vectors = [w2v_model_synopsis.wv.get_vector(token) for token in tokens if token in w2v_model_synopsis.wv.key_to_index]\n",
        "    return sum(vectors) / len(vectors) if vectors else [0] * 100"
      ]
    },
    {
      "cell_type": "code",
      "execution_count": 34,
      "metadata": {
        "id": "pOQhuSCFW_5H"
      },
      "outputs": [],
      "source": [
        "# Convert each synopsis into a numeric vector using the trained Word2Vec model\n",
        "def vectorize_title(title):\n",
        "    tokens = title.split()\n",
        "    vectors = [w2v_model_title.wv.get_vector(token) for token in tokens if token in w2v_model_title.wv.key_to_index]\n",
        "    return sum(vectors) / len(vectors) if vectors else [0] * 100"
      ]
    },
    {
      "cell_type": "code",
      "execution_count": 35,
      "metadata": {
        "id": "E3umKbRnhAMu"
      },
      "outputs": [],
      "source": [
        "# Convert each synopsis into a numeric vector using the trained Word2Vec model\n",
        "def vectorize_producer(producer):\n",
        "    tokens = producer.split()\n",
        "    vectors = [w2v_model_producer.wv.get_vector(token) for token in tokens if token in w2v_model_producer.wv.key_to_index]\n",
        "    return sum(vectors) / len(vectors) if vectors else [0] * 100"
      ]
    },
    {
      "cell_type": "code",
      "execution_count": 36,
      "metadata": {
        "id": "t4MBZ3HjiSax"
      },
      "outputs": [],
      "source": [
        "# Convert each synopsis into a numeric vector using the trained Word2Vec model\n",
        "def vectorize_studio(studio):\n",
        "    tokens = studio.split()\n",
        "    vectors = [w2v_model_studio.wv.get_vector(token) for token in tokens if token in w2v_model_studio.wv.key_to_index]\n",
        "    return sum(vectors) / len(vectors) if vectors else [0] * 100"
      ]
    },
    {
      "cell_type": "code",
      "execution_count": 37,
      "metadata": {
        "id": "uCCzAS6PP706"
      },
      "outputs": [],
      "source": [
        "df['synopsis_vectors'] = df['preprocessed_synopsis'].apply(vectorize_synopsis)\n",
        "df['title_vectors'] = df['preprocessed_Title'].apply(vectorize_title)\n",
        "df['producer_vectors'] = df['preprocessed_Producer'].apply(vectorize_producer)\n",
        "df['studio_vectors'] = df['preprocessed_Studio'].apply(vectorize_studio)"
      ]
    },
    {
      "cell_type": "code",
      "execution_count": 38,
      "metadata": {
        "colab": {
          "base_uri": "https://localhost:8080/",
          "height": 1000
        },
        "id": "OzZdFrqFRO_S",
        "outputId": "40045edc-78e9-4706-c8fa-a9f7d74ca157"
      },
      "outputs": [
        {
          "data": {
            "text/html": [
              "<div>\n",
              "<style scoped>\n",
              "    .dataframe tbody tr th:only-of-type {\n",
              "        vertical-align: middle;\n",
              "    }\n",
              "\n",
              "    .dataframe tbody tr th {\n",
              "        vertical-align: top;\n",
              "    }\n",
              "\n",
              "    .dataframe thead th {\n",
              "        text-align: right;\n",
              "    }\n",
              "</style>\n",
              "<table border=\"1\" class=\"dataframe\">\n",
              "  <thead>\n",
              "    <tr style=\"text-align: right;\">\n",
              "      <th></th>\n",
              "      <th>Title</th>\n",
              "      <th>Synopsis</th>\n",
              "      <th>Type</th>\n",
              "      <th>Producer</th>\n",
              "      <th>Studio</th>\n",
              "      <th>Rating</th>\n",
              "      <th>Source</th>\n",
              "      <th>Type_orig</th>\n",
              "      <th>Source_orig</th>\n",
              "      <th>Dementia</th>\n",
              "      <th>...</th>\n",
              "      <th>Shoujo Ai</th>\n",
              "      <th>Historical</th>\n",
              "      <th>preprocessed_synopsis</th>\n",
              "      <th>preprocessed_Title</th>\n",
              "      <th>preprocessed_Producer</th>\n",
              "      <th>preprocessed_Studio</th>\n",
              "      <th>synopsis_vectors</th>\n",
              "      <th>title_vectors</th>\n",
              "      <th>producer_vectors</th>\n",
              "      <th>studio_vectors</th>\n",
              "    </tr>\n",
              "  </thead>\n",
              "  <tbody>\n",
              "    <tr>\n",
              "      <th>0</th>\n",
              "      <td>Cowboy Bebop</td>\n",
              "      <td>In the year 2071, humanity has colonized sever...</td>\n",
              "      <td>0</td>\n",
              "      <td>['Bandai Visual']</td>\n",
              "      <td>['Sunrise']</td>\n",
              "      <td>8.81</td>\n",
              "      <td>0</td>\n",
              "      <td>TV</td>\n",
              "      <td>Original</td>\n",
              "      <td>0</td>\n",
              "      <td>...</td>\n",
              "      <td>0</td>\n",
              "      <td>0</td>\n",
              "      <td>year 2071 human colon sever planet moon solar ...</td>\n",
              "      <td>cowboy bebop</td>\n",
              "      <td>bandai visual</td>\n",
              "      <td>sunris</td>\n",
              "      <td>[-0.0005842843, 0.0010318753, 0.0003277911, 0....</td>\n",
              "      <td>[-0.0035258993, -0.0076524, -0.001318773, 0.00...</td>\n",
              "      <td>[-0.0008193427, 0.00028111576, 0.0035369773, -...</td>\n",
              "      <td>[-0.0087274825, 0.0021301615, -0.0008735442, -...</td>\n",
              "    </tr>\n",
              "    <tr>\n",
              "      <th>1</th>\n",
              "      <td>Cowboy Bebop: Tengoku no Tobira</td>\n",
              "      <td>Another day, another bounty—such is the life o...</td>\n",
              "      <td>1</td>\n",
              "      <td>['Sunrise', 'Bandai Visual']</td>\n",
              "      <td>['Bones']</td>\n",
              "      <td>8.41</td>\n",
              "      <td>0</td>\n",
              "      <td>Movie</td>\n",
              "      <td>Original</td>\n",
              "      <td>0</td>\n",
              "      <td>...</td>\n",
              "      <td>0</td>\n",
              "      <td>0</td>\n",
              "      <td>anoth day anoth bounty—such life often unlucki...</td>\n",
              "      <td>cowboy bebop tengoku tobira</td>\n",
              "      <td>sunris bandai visual</td>\n",
              "      <td>bone</td>\n",
              "      <td>[-0.00041281452, 0.0009827461, -1.9511826e-05,...</td>\n",
              "      <td>[0.0014435188, -0.0047937236, -0.0007585628, 0...</td>\n",
              "      <td>[-0.003499575, -0.0029092114, 0.0023581742, -0...</td>\n",
              "      <td>[0.009648528, 0.007324829, 0.0012616563, -0.00...</td>\n",
              "    </tr>\n",
              "    <tr>\n",
              "      <th>2</th>\n",
              "      <td>Trigun</td>\n",
              "      <td>Vash the Stampede is the man with a $$60,000,0...</td>\n",
              "      <td>0</td>\n",
              "      <td>['Victor Entertainment']</td>\n",
              "      <td>['Madhouse']</td>\n",
              "      <td>8.31</td>\n",
              "      <td>1</td>\n",
              "      <td>TV</td>\n",
              "      <td>Manga</td>\n",
              "      <td>0</td>\n",
              "      <td>...</td>\n",
              "      <td>0</td>\n",
              "      <td>0</td>\n",
              "      <td>vash stamped man 60000000000 bounti head reaso...</td>\n",
              "      <td>trigun</td>\n",
              "      <td>victor entertain</td>\n",
              "      <td>madhous</td>\n",
              "      <td>[0.0004804233, 0.00017798069, 0.00081434444, 0...</td>\n",
              "      <td>[-0.0012914204, 0.009018698, -0.005590031, 0.0...</td>\n",
              "      <td>[-0.0009417677, -0.0010257291, -0.0076476308, ...</td>\n",
              "      <td>[0.0081322715, -0.004457334, -0.0010683573, 0....</td>\n",
              "    </tr>\n",
              "    <tr>\n",
              "      <th>3</th>\n",
              "      <td>Witch Hunter Robin</td>\n",
              "      <td>Witches are individuals with special powers li...</td>\n",
              "      <td>0</td>\n",
              "      <td>['Bandai Visual']</td>\n",
              "      <td>['Sunrise']</td>\n",
              "      <td>7.34</td>\n",
              "      <td>0</td>\n",
              "      <td>TV</td>\n",
              "      <td>Original</td>\n",
              "      <td>0</td>\n",
              "      <td>...</td>\n",
              "      <td>0</td>\n",
              "      <td>0</td>\n",
              "      <td>witch individu special power like esp telekine...</td>\n",
              "      <td>witch hunter robin</td>\n",
              "      <td>bandai visual</td>\n",
              "      <td>sunris</td>\n",
              "      <td>[-0.0007236848, 0.0008979221, -0.00080057426, ...</td>\n",
              "      <td>[0.0047848406, 0.00014208879, -0.001255269, -0...</td>\n",
              "      <td>[-0.0008193427, 0.00028111576, 0.0035369773, -...</td>\n",
              "      <td>[-0.0087274825, 0.0021301615, -0.0008735442, -...</td>\n",
              "    </tr>\n",
              "    <tr>\n",
              "      <th>4</th>\n",
              "      <td>Bouken Ou Beet</td>\n",
              "      <td>It is the dark century and the people are suff...</td>\n",
              "      <td>0</td>\n",
              "      <td>unknown</td>\n",
              "      <td>['Toei Animation']</td>\n",
              "      <td>7.04</td>\n",
              "      <td>1</td>\n",
              "      <td>TV</td>\n",
              "      <td>Manga</td>\n",
              "      <td>0</td>\n",
              "      <td>...</td>\n",
              "      <td>0</td>\n",
              "      <td>0</td>\n",
              "      <td>dark centuri peopl suffer rule devil vandel ab...</td>\n",
              "      <td>bouken ou beet</td>\n",
              "      <td>unknown</td>\n",
              "      <td>toei anim</td>\n",
              "      <td>[-0.00085029885, 0.0021997162, 5.6877518e-05, ...</td>\n",
              "      <td>[-0.0014229012, 0.0012140521, 0.0023713761, -0...</td>\n",
              "      <td>[-0.00053622725, 0.00023643136, 0.0051033497, ...</td>\n",
              "      <td>[-0.007879351, 0.0024533845, -0.0009934164, 0....</td>\n",
              "    </tr>\n",
              "    <tr>\n",
              "      <th>...</th>\n",
              "      <td>...</td>\n",
              "      <td>...</td>\n",
              "      <td>...</td>\n",
              "      <td>...</td>\n",
              "      <td>...</td>\n",
              "      <td>...</td>\n",
              "      <td>...</td>\n",
              "      <td>...</td>\n",
              "      <td>...</td>\n",
              "      <td>...</td>\n",
              "      <td>...</td>\n",
              "      <td>...</td>\n",
              "      <td>...</td>\n",
              "      <td>...</td>\n",
              "      <td>...</td>\n",
              "      <td>...</td>\n",
              "      <td>...</td>\n",
              "      <td>...</td>\n",
              "      <td>...</td>\n",
              "      <td>...</td>\n",
              "      <td>...</td>\n",
              "    </tr>\n",
              "    <tr>\n",
              "      <th>15015</th>\n",
              "      <td>Ake-Vono</td>\n",
              "      <td>Music video directed by Kouhei Yoshino for the...</td>\n",
              "      <td>5</td>\n",
              "      <td>unknown</td>\n",
              "      <td>unknown</td>\n",
              "      <td>5.52</td>\n",
              "      <td>0</td>\n",
              "      <td>Music</td>\n",
              "      <td>Original</td>\n",
              "      <td>1</td>\n",
              "      <td>...</td>\n",
              "      <td>0</td>\n",
              "      <td>0</td>\n",
              "      <td>music video direct kouhei yoshino song akevono...</td>\n",
              "      <td>akevono</td>\n",
              "      <td>unknown</td>\n",
              "      <td>unknown</td>\n",
              "      <td>[-0.00030113, 0.0038219758, -0.00013590511, 0....</td>\n",
              "      <td>[0.0075038527, -0.00063257816, -0.0046589146, ...</td>\n",
              "      <td>[-0.00053622725, 0.00023643136, 0.0051033497, ...</td>\n",
              "      <td>[-0.00053622725, 0.00023643136, 0.0051033497, ...</td>\n",
              "    </tr>\n",
              "    <tr>\n",
              "      <th>15016</th>\n",
              "      <td>Ab-rah</td>\n",
              "      <td>Music video directed by Kouhei Yoshino for the...</td>\n",
              "      <td>5</td>\n",
              "      <td>unknown</td>\n",
              "      <td>unknown</td>\n",
              "      <td>5.52</td>\n",
              "      <td>0</td>\n",
              "      <td>Music</td>\n",
              "      <td>Original</td>\n",
              "      <td>0</td>\n",
              "      <td>...</td>\n",
              "      <td>0</td>\n",
              "      <td>0</td>\n",
              "      <td>music video direct kouhei yoshino song abrah j...</td>\n",
              "      <td>abrah</td>\n",
              "      <td>unknown</td>\n",
              "      <td>unknown</td>\n",
              "      <td>[-0.002198061, 0.0022400143, -0.0001623089, -0...</td>\n",
              "      <td>[0.009823671, 0.006244389, 0.004912238, 0.0022...</td>\n",
              "      <td>[-0.00053622725, 0.00023643136, 0.0051033497, ...</td>\n",
              "      <td>[-0.00053622725, 0.00023643136, 0.0051033497, ...</td>\n",
              "    </tr>\n",
              "    <tr>\n",
              "      <th>15031</th>\n",
              "      <td>Space Shower Man: Legacy for the Future</td>\n",
              "      <td>Space Shower TV Station ID directed by Densuke...</td>\n",
              "      <td>3</td>\n",
              "      <td>unknown</td>\n",
              "      <td>unknown</td>\n",
              "      <td>5.29</td>\n",
              "      <td>0</td>\n",
              "      <td>Special</td>\n",
              "      <td>Original</td>\n",
              "      <td>0</td>\n",
              "      <td>...</td>\n",
              "      <td>0</td>\n",
              "      <td>0</td>\n",
              "      <td>space shower tv station id direct densuke28 so...</td>\n",
              "      <td>space shower man legaci futur</td>\n",
              "      <td>unknown</td>\n",
              "      <td>unknown</td>\n",
              "      <td>[-0.00095495634, 0.00057553774, 0.0023163885, ...</td>\n",
              "      <td>[0.00048050284, 0.0007103888, 0.0027244545, 0....</td>\n",
              "      <td>[-0.00053622725, 0.00023643136, 0.0051033497, ...</td>\n",
              "      <td>[-0.00053622725, 0.00023643136, 0.0051033497, ...</td>\n",
              "    </tr>\n",
              "    <tr>\n",
              "      <th>15042</th>\n",
              "      <td>Mugyutto! Black Clover</td>\n",
              "      <td>SD  Black Clover  short comedy specials releas...</td>\n",
              "      <td>4</td>\n",
              "      <td>unknown</td>\n",
              "      <td>['DLE']</td>\n",
              "      <td>6.91</td>\n",
              "      <td>1</td>\n",
              "      <td>ONA</td>\n",
              "      <td>Manga</td>\n",
              "      <td>0</td>\n",
              "      <td>...</td>\n",
              "      <td>0</td>\n",
              "      <td>0</td>\n",
              "      <td>sd black clover short comedi special releas ex...</td>\n",
              "      <td>mugyutto black clover</td>\n",
              "      <td>unknown</td>\n",
              "      <td>dle</td>\n",
              "      <td>[-0.00076304964, -0.001008537, -0.0010246095, ...</td>\n",
              "      <td>[-0.0016728224, 9.057795e-05, -0.0020517611, -...</td>\n",
              "      <td>[-0.00053622725, 0.00023643136, 0.0051033497, ...</td>\n",
              "      <td>[-0.00023748518, 0.0042191767, 0.0021141458, 0...</td>\n",
              "    </tr>\n",
              "    <tr>\n",
              "      <th>15048</th>\n",
              "      <td>Odoru Mowai-kun</td>\n",
              "      <td>The anime centers on a Moai statue named Mowai...</td>\n",
              "      <td>0</td>\n",
              "      <td>unknown</td>\n",
              "      <td>unknown</td>\n",
              "      <td>6.25</td>\n",
              "      <td>0</td>\n",
              "      <td>TV</td>\n",
              "      <td>Original</td>\n",
              "      <td>0</td>\n",
              "      <td>...</td>\n",
              "      <td>0</td>\n",
              "      <td>0</td>\n",
              "      <td>anim center moai statu name mowaikun gloomi ev...</td>\n",
              "      <td>odoru mowaikun</td>\n",
              "      <td>unknown</td>\n",
              "      <td>unknown</td>\n",
              "      <td>[-0.00013861062, 0.0012542007, 0.00031824913, ...</td>\n",
              "      <td>[0.00034304737, 0.0030388813, -0.0051150382, 0...</td>\n",
              "      <td>[-0.00053622725, 0.00023643136, 0.0051033497, ...</td>\n",
              "      <td>[-0.00053622725, 0.00023643136, 0.0051033497, ...</td>\n",
              "    </tr>\n",
              "  </tbody>\n",
              "</table>\n",
              "<p>12569 rows × 60 columns</p>\n",
              "</div>"
            ],
            "text/plain": [
              "                                         Title  \\\n",
              "0                                 Cowboy Bebop   \n",
              "1              Cowboy Bebop: Tengoku no Tobira   \n",
              "2                                       Trigun   \n",
              "3                           Witch Hunter Robin   \n",
              "4                               Bouken Ou Beet   \n",
              "...                                        ...   \n",
              "15015                                 Ake-Vono   \n",
              "15016                                   Ab-rah   \n",
              "15031  Space Shower Man: Legacy for the Future   \n",
              "15042                   Mugyutto! Black Clover   \n",
              "15048                          Odoru Mowai-kun   \n",
              "\n",
              "                                                Synopsis  Type  \\\n",
              "0      In the year 2071, humanity has colonized sever...     0   \n",
              "1      Another day, another bounty—such is the life o...     1   \n",
              "2      Vash the Stampede is the man with a $$60,000,0...     0   \n",
              "3      Witches are individuals with special powers li...     0   \n",
              "4      It is the dark century and the people are suff...     0   \n",
              "...                                                  ...   ...   \n",
              "15015  Music video directed by Kouhei Yoshino for the...     5   \n",
              "15016  Music video directed by Kouhei Yoshino for the...     5   \n",
              "15031  Space Shower TV Station ID directed by Densuke...     3   \n",
              "15042  SD  Black Clover  short comedy specials releas...     4   \n",
              "15048  The anime centers on a Moai statue named Mowai...     0   \n",
              "\n",
              "                           Producer              Studio  Rating  Source  \\\n",
              "0                 ['Bandai Visual']         ['Sunrise']    8.81       0   \n",
              "1      ['Sunrise', 'Bandai Visual']           ['Bones']    8.41       0   \n",
              "2          ['Victor Entertainment']        ['Madhouse']    8.31       1   \n",
              "3                 ['Bandai Visual']         ['Sunrise']    7.34       0   \n",
              "4                           unknown  ['Toei Animation']    7.04       1   \n",
              "...                             ...                 ...     ...     ...   \n",
              "15015                       unknown             unknown    5.52       0   \n",
              "15016                       unknown             unknown    5.52       0   \n",
              "15031                       unknown             unknown    5.29       0   \n",
              "15042                       unknown             ['DLE']    6.91       1   \n",
              "15048                       unknown             unknown    6.25       0   \n",
              "\n",
              "      Type_orig Source_orig  Dementia  ...  Shoujo Ai  Historical  \\\n",
              "0            TV    Original         0  ...          0           0   \n",
              "1         Movie    Original         0  ...          0           0   \n",
              "2            TV       Manga         0  ...          0           0   \n",
              "3            TV    Original         0  ...          0           0   \n",
              "4            TV       Manga         0  ...          0           0   \n",
              "...         ...         ...       ...  ...        ...         ...   \n",
              "15015     Music    Original         1  ...          0           0   \n",
              "15016     Music    Original         0  ...          0           0   \n",
              "15031   Special    Original         0  ...          0           0   \n",
              "15042       ONA       Manga         0  ...          0           0   \n",
              "15048        TV    Original         0  ...          0           0   \n",
              "\n",
              "                                   preprocessed_synopsis  \\\n",
              "0      year 2071 human colon sever planet moon solar ...   \n",
              "1      anoth day anoth bounty—such life often unlucki...   \n",
              "2      vash stamped man 60000000000 bounti head reaso...   \n",
              "3      witch individu special power like esp telekine...   \n",
              "4      dark centuri peopl suffer rule devil vandel ab...   \n",
              "...                                                  ...   \n",
              "15015  music video direct kouhei yoshino song akevono...   \n",
              "15016  music video direct kouhei yoshino song abrah j...   \n",
              "15031  space shower tv station id direct densuke28 so...   \n",
              "15042  sd black clover short comedi special releas ex...   \n",
              "15048  anim center moai statu name mowaikun gloomi ev...   \n",
              "\n",
              "                  preprocessed_Title  preprocessed_Producer  \\\n",
              "0                       cowboy bebop          bandai visual   \n",
              "1        cowboy bebop tengoku tobira   sunris bandai visual   \n",
              "2                             trigun       victor entertain   \n",
              "3                 witch hunter robin          bandai visual   \n",
              "4                     bouken ou beet                unknown   \n",
              "...                              ...                    ...   \n",
              "15015                        akevono                unknown   \n",
              "15016                          abrah                unknown   \n",
              "15031  space shower man legaci futur                unknown   \n",
              "15042          mugyutto black clover                unknown   \n",
              "15048                 odoru mowaikun                unknown   \n",
              "\n",
              "       preprocessed_Studio                                   synopsis_vectors  \\\n",
              "0                   sunris  [-0.0005842843, 0.0010318753, 0.0003277911, 0....   \n",
              "1                     bone  [-0.00041281452, 0.0009827461, -1.9511826e-05,...   \n",
              "2                  madhous  [0.0004804233, 0.00017798069, 0.00081434444, 0...   \n",
              "3                   sunris  [-0.0007236848, 0.0008979221, -0.00080057426, ...   \n",
              "4                toei anim  [-0.00085029885, 0.0021997162, 5.6877518e-05, ...   \n",
              "...                    ...                                                ...   \n",
              "15015              unknown  [-0.00030113, 0.0038219758, -0.00013590511, 0....   \n",
              "15016              unknown  [-0.002198061, 0.0022400143, -0.0001623089, -0...   \n",
              "15031              unknown  [-0.00095495634, 0.00057553774, 0.0023163885, ...   \n",
              "15042                  dle  [-0.00076304964, -0.001008537, -0.0010246095, ...   \n",
              "15048              unknown  [-0.00013861062, 0.0012542007, 0.00031824913, ...   \n",
              "\n",
              "                                           title_vectors  \\\n",
              "0      [-0.0035258993, -0.0076524, -0.001318773, 0.00...   \n",
              "1      [0.0014435188, -0.0047937236, -0.0007585628, 0...   \n",
              "2      [-0.0012914204, 0.009018698, -0.005590031, 0.0...   \n",
              "3      [0.0047848406, 0.00014208879, -0.001255269, -0...   \n",
              "4      [-0.0014229012, 0.0012140521, 0.0023713761, -0...   \n",
              "...                                                  ...   \n",
              "15015  [0.0075038527, -0.00063257816, -0.0046589146, ...   \n",
              "15016  [0.009823671, 0.006244389, 0.004912238, 0.0022...   \n",
              "15031  [0.00048050284, 0.0007103888, 0.0027244545, 0....   \n",
              "15042  [-0.0016728224, 9.057795e-05, -0.0020517611, -...   \n",
              "15048  [0.00034304737, 0.0030388813, -0.0051150382, 0...   \n",
              "\n",
              "                                        producer_vectors  \\\n",
              "0      [-0.0008193427, 0.00028111576, 0.0035369773, -...   \n",
              "1      [-0.003499575, -0.0029092114, 0.0023581742, -0...   \n",
              "2      [-0.0009417677, -0.0010257291, -0.0076476308, ...   \n",
              "3      [-0.0008193427, 0.00028111576, 0.0035369773, -...   \n",
              "4      [-0.00053622725, 0.00023643136, 0.0051033497, ...   \n",
              "...                                                  ...   \n",
              "15015  [-0.00053622725, 0.00023643136, 0.0051033497, ...   \n",
              "15016  [-0.00053622725, 0.00023643136, 0.0051033497, ...   \n",
              "15031  [-0.00053622725, 0.00023643136, 0.0051033497, ...   \n",
              "15042  [-0.00053622725, 0.00023643136, 0.0051033497, ...   \n",
              "15048  [-0.00053622725, 0.00023643136, 0.0051033497, ...   \n",
              "\n",
              "                                          studio_vectors  \n",
              "0      [-0.0087274825, 0.0021301615, -0.0008735442, -...  \n",
              "1      [0.009648528, 0.007324829, 0.0012616563, -0.00...  \n",
              "2      [0.0081322715, -0.004457334, -0.0010683573, 0....  \n",
              "3      [-0.0087274825, 0.0021301615, -0.0008735442, -...  \n",
              "4      [-0.007879351, 0.0024533845, -0.0009934164, 0....  \n",
              "...                                                  ...  \n",
              "15015  [-0.00053622725, 0.00023643136, 0.0051033497, ...  \n",
              "15016  [-0.00053622725, 0.00023643136, 0.0051033497, ...  \n",
              "15031  [-0.00053622725, 0.00023643136, 0.0051033497, ...  \n",
              "15042  [-0.00023748518, 0.0042191767, 0.0021141458, 0...  \n",
              "15048  [-0.00053622725, 0.00023643136, 0.0051033497, ...  \n",
              "\n",
              "[12569 rows x 60 columns]"
            ]
          },
          "execution_count": 38,
          "metadata": {},
          "output_type": "execute_result"
        }
      ],
      "source": [
        "df"
      ]
    },
    {
      "cell_type": "code",
      "execution_count": 39,
      "metadata": {
        "id": "tK03KNCJRW_8"
      },
      "outputs": [],
      "source": [
        "# Dropping irrelevant columns\n",
        "df = df.drop(['Synopsis', 'preprocessed_synopsis', 'Title', 'preprocessed_Title', 'Producer', 'preprocessed_Producer', 'Studio', 'preprocessed_Studio'], axis=1)"
      ]
    },
    {
      "cell_type": "code",
      "execution_count": 40,
      "metadata": {
        "id": "32mavYMrRbDR"
      },
      "outputs": [],
      "source": [
        "df['synopsis_vectors'] = df['synopsis_vectors'].apply(lambda x: np.array(x))\n",
        "df['title_vectors'] = df['title_vectors'].apply(lambda x: np.array(x))\n",
        "df['producer_vectors'] = df['producer_vectors'].apply(lambda x: np.array(x))\n",
        "df['studio_vectors'] = df['studio_vectors'].apply(lambda x: np.array(x))"
      ]
    },
    {
      "cell_type": "code",
      "execution_count": 41,
      "metadata": {
        "id": "wYWhR5j-RgRu"
      },
      "outputs": [],
      "source": [
        "# Concatenate vectors with the other columns \n",
        "X = np.concatenate([df['synopsis_vectors'].values.tolist(),\n",
        "                    df['title_vectors'].values.tolist(), \n",
        "                    df['Type'].values.reshape(-1,1),\n",
        "                    df['producer_vectors'].values.tolist(), \n",
        "                    df['studio_vectors'].values.tolist(), \n",
        "                    df['Source'].values.reshape(-1,1),\n",
        "                    df['Horror'].values.reshape(-1,1),\n",
        "                    df['Historical'].values.reshape(-1,1),\n",
        "                    df['Adventure'].values.reshape(-1,1),\n",
        "                    df['Sci-Fi'].values.reshape(-1,1),\n",
        "                    df['Shounen'].values.reshape(-1,1),\n",
        "                    df['Seinen'].values.reshape(-1,1),\n",
        "                    df['Super Power'].values.reshape(-1,1), \n",
        "                    df['Kids'].values.reshape(-1,1),\n",
        "                    df['Samurai'].values.reshape(-1,1),\n",
        "                    df['Mystery'].values.reshape(-1,1),\n",
        "                    df['Police'].values.reshape(-1,1),  \n",
        "                    df['Yuri'].values.reshape(-1,1),\n",
        "                    df['Romance'].values.reshape(-1,1),\n",
        "                    df['Space'].values.reshape(-1,1),\n",
        "                    df['Game'].values.reshape(-1,1),\n",
        "                    df['Shoujo'].values.reshape(-1,1),\n",
        "                    df['Martial Arts'].values.reshape(-1,1),\n",
        "                    df['Shounen Ai'].values.reshape(-1,1),\n",
        "                    df['Josei'].values.reshape(-1,1),\n",
        "                    df['Military'].values.reshape(-1,1),\n",
        "                    df['Psychological'].values.reshape(-1,1),\n",
        "                    df['Thriller'].values.reshape(-1,1),\n",
        "                    df['Parody'].values.reshape(-1,1),\n",
        "                    df['Music'].values.reshape(-1,1), \n",
        "                    df['Mecha'].values.reshape(-1,1),\n",
        "                    df['Yaoi'].values.reshape(-1,1),\n",
        "                    df['Supernatural'].values.reshape(-1,1),\n",
        "                    df['Demons'].values.reshape(-1,1),\n",
        "                    df['Sports'].values.reshape(-1,1), \n",
        "                    df['Action'].values.reshape(-1,1),\n",
        "                    df['Shoujo Ai'].values.reshape(-1,1),\n",
        "                    df['Dementia'].values.reshape(-1,1),\n",
        "                    df['Harem'].values.reshape(-1,1),\n",
        "                    df['Hentai'].values.reshape(-1,1),\n",
        "                    df['Cars'].values.reshape(-1,1),\n",
        "                    df['Slice of Life'].values.reshape(-1,1),\n",
        "                    df['Drama'].values.reshape(-1,1),\n",
        "                    df['Fantasy'].values.reshape(-1,1),\n",
        "                    df['Magic'].values.reshape(-1,1),\n",
        "                    df['Ecchi'].values.reshape(-1,1),               \n",
        "                    df['Comedy'].values.reshape(-1,1),],\n",
        "                    axis=1)"
      ]
    },
    {
      "cell_type": "code",
      "execution_count": 42,
      "metadata": {
        "colab": {
          "base_uri": "https://localhost:8080/"
        },
        "id": "dvVU1Jbni96w",
        "outputId": "fa34760d-a632-4c5e-ae71-8a091fb3d2b9"
      },
      "outputs": [
        {
          "name": "stdout",
          "output_type": "stream",
          "text": [
            "(12569, 443)\n"
          ]
        }
      ],
      "source": [
        "print(X.shape)"
      ]
    },
    {
      "cell_type": "code",
      "execution_count": 43,
      "metadata": {
        "colab": {
          "base_uri": "https://localhost:8080/"
        },
        "id": "cpYd9BTOEsVv",
        "outputId": "2be7b5cf-ae48-4607-cf89-7b1a45970360"
      },
      "outputs": [
        {
          "data": {
            "text/plain": [
              "array([[-5.84284309e-04,  1.03187526e-03,  3.27791087e-04, ...,\n",
              "         0.00000000e+00,  0.00000000e+00,  1.00000000e+00],\n",
              "       [-4.12814523e-04,  9.82746133e-04, -1.95118264e-05, ...,\n",
              "         0.00000000e+00,  0.00000000e+00,  0.00000000e+00],\n",
              "       [ 4.80423303e-04,  1.77980692e-04,  8.14344443e-04, ...,\n",
              "         0.00000000e+00,  0.00000000e+00,  1.00000000e+00],\n",
              "       ...,\n",
              "       [-9.54956340e-04,  5.75537735e-04,  2.31638853e-03, ...,\n",
              "         0.00000000e+00,  0.00000000e+00,  1.00000000e+00],\n",
              "       [-7.63049640e-04, -1.00853702e-03, -1.02460955e-03, ...,\n",
              "         1.00000000e+00,  0.00000000e+00,  1.00000000e+00],\n",
              "       [-1.38610616e-04,  1.25420070e-03,  3.18249135e-04, ...,\n",
              "         0.00000000e+00,  0.00000000e+00,  1.00000000e+00]])"
            ]
          },
          "execution_count": 43,
          "metadata": {},
          "output_type": "execute_result"
        }
      ],
      "source": [
        "X"
      ]
    },
    {
      "cell_type": "code",
      "execution_count": 44,
      "metadata": {
        "colab": {
          "base_uri": "https://localhost:8080/",
          "height": 641
        },
        "id": "ZVS7jiwlE0uT",
        "outputId": "26aa92a2-d20e-4310-dfa4-5c16a07d07c9"
      },
      "outputs": [
        {
          "data": {
            "text/html": [
              "<div>\n",
              "<style scoped>\n",
              "    .dataframe tbody tr th:only-of-type {\n",
              "        vertical-align: middle;\n",
              "    }\n",
              "\n",
              "    .dataframe tbody tr th {\n",
              "        vertical-align: top;\n",
              "    }\n",
              "\n",
              "    .dataframe thead th {\n",
              "        text-align: right;\n",
              "    }\n",
              "</style>\n",
              "<table border=\"1\" class=\"dataframe\">\n",
              "  <thead>\n",
              "    <tr style=\"text-align: right;\">\n",
              "      <th></th>\n",
              "      <th>Type</th>\n",
              "      <th>Rating</th>\n",
              "      <th>Source</th>\n",
              "      <th>Type_orig</th>\n",
              "      <th>Source_orig</th>\n",
              "      <th>Dementia</th>\n",
              "      <th>Slice of Life</th>\n",
              "      <th>Space</th>\n",
              "      <th>Parody</th>\n",
              "      <th>Military</th>\n",
              "      <th>...</th>\n",
              "      <th>Josei</th>\n",
              "      <th>Cars</th>\n",
              "      <th>Music</th>\n",
              "      <th>Vampire</th>\n",
              "      <th>Shoujo Ai</th>\n",
              "      <th>Historical</th>\n",
              "      <th>synopsis_vectors</th>\n",
              "      <th>title_vectors</th>\n",
              "      <th>producer_vectors</th>\n",
              "      <th>studio_vectors</th>\n",
              "    </tr>\n",
              "  </thead>\n",
              "  <tbody>\n",
              "    <tr>\n",
              "      <th>0</th>\n",
              "      <td>0</td>\n",
              "      <td>8.81</td>\n",
              "      <td>0</td>\n",
              "      <td>TV</td>\n",
              "      <td>Original</td>\n",
              "      <td>0</td>\n",
              "      <td>0</td>\n",
              "      <td>1</td>\n",
              "      <td>0</td>\n",
              "      <td>0</td>\n",
              "      <td>...</td>\n",
              "      <td>0</td>\n",
              "      <td>0</td>\n",
              "      <td>0</td>\n",
              "      <td>0</td>\n",
              "      <td>0</td>\n",
              "      <td>0</td>\n",
              "      <td>[-0.0005842843, 0.0010318753, 0.0003277911, 0....</td>\n",
              "      <td>[-0.0035258993, -0.0076524, -0.001318773, 0.00...</td>\n",
              "      <td>[-0.0008193427, 0.00028111576, 0.0035369773, -...</td>\n",
              "      <td>[-0.0087274825, 0.0021301615, -0.0008735442, -...</td>\n",
              "    </tr>\n",
              "    <tr>\n",
              "      <th>1</th>\n",
              "      <td>1</td>\n",
              "      <td>8.41</td>\n",
              "      <td>0</td>\n",
              "      <td>Movie</td>\n",
              "      <td>Original</td>\n",
              "      <td>0</td>\n",
              "      <td>0</td>\n",
              "      <td>1</td>\n",
              "      <td>0</td>\n",
              "      <td>0</td>\n",
              "      <td>...</td>\n",
              "      <td>0</td>\n",
              "      <td>0</td>\n",
              "      <td>0</td>\n",
              "      <td>0</td>\n",
              "      <td>0</td>\n",
              "      <td>0</td>\n",
              "      <td>[-0.00041281452, 0.0009827461, -1.9511826e-05,...</td>\n",
              "      <td>[0.0014435188, -0.0047937236, -0.0007585628, 0...</td>\n",
              "      <td>[-0.003499575, -0.0029092114, 0.0023581742, -0...</td>\n",
              "      <td>[0.009648528, 0.007324829, 0.0012616563, -0.00...</td>\n",
              "    </tr>\n",
              "    <tr>\n",
              "      <th>2</th>\n",
              "      <td>0</td>\n",
              "      <td>8.31</td>\n",
              "      <td>1</td>\n",
              "      <td>TV</td>\n",
              "      <td>Manga</td>\n",
              "      <td>0</td>\n",
              "      <td>0</td>\n",
              "      <td>0</td>\n",
              "      <td>0</td>\n",
              "      <td>0</td>\n",
              "      <td>...</td>\n",
              "      <td>0</td>\n",
              "      <td>0</td>\n",
              "      <td>0</td>\n",
              "      <td>0</td>\n",
              "      <td>0</td>\n",
              "      <td>0</td>\n",
              "      <td>[0.0004804233, 0.00017798069, 0.00081434444, 0...</td>\n",
              "      <td>[-0.0012914204, 0.009018698, -0.005590031, 0.0...</td>\n",
              "      <td>[-0.0009417677, -0.0010257291, -0.0076476308, ...</td>\n",
              "      <td>[0.0081322715, -0.004457334, -0.0010683573, 0....</td>\n",
              "    </tr>\n",
              "    <tr>\n",
              "      <th>3</th>\n",
              "      <td>0</td>\n",
              "      <td>7.34</td>\n",
              "      <td>0</td>\n",
              "      <td>TV</td>\n",
              "      <td>Original</td>\n",
              "      <td>0</td>\n",
              "      <td>0</td>\n",
              "      <td>0</td>\n",
              "      <td>0</td>\n",
              "      <td>0</td>\n",
              "      <td>...</td>\n",
              "      <td>0</td>\n",
              "      <td>0</td>\n",
              "      <td>0</td>\n",
              "      <td>0</td>\n",
              "      <td>0</td>\n",
              "      <td>0</td>\n",
              "      <td>[-0.0007236848, 0.0008979221, -0.00080057426, ...</td>\n",
              "      <td>[0.0047848406, 0.00014208879, -0.001255269, -0...</td>\n",
              "      <td>[-0.0008193427, 0.00028111576, 0.0035369773, -...</td>\n",
              "      <td>[-0.0087274825, 0.0021301615, -0.0008735442, -...</td>\n",
              "    </tr>\n",
              "    <tr>\n",
              "      <th>4</th>\n",
              "      <td>0</td>\n",
              "      <td>7.04</td>\n",
              "      <td>1</td>\n",
              "      <td>TV</td>\n",
              "      <td>Manga</td>\n",
              "      <td>0</td>\n",
              "      <td>0</td>\n",
              "      <td>0</td>\n",
              "      <td>0</td>\n",
              "      <td>0</td>\n",
              "      <td>...</td>\n",
              "      <td>0</td>\n",
              "      <td>0</td>\n",
              "      <td>0</td>\n",
              "      <td>0</td>\n",
              "      <td>0</td>\n",
              "      <td>0</td>\n",
              "      <td>[-0.00085029885, 0.0021997162, 5.6877518e-05, ...</td>\n",
              "      <td>[-0.0014229012, 0.0012140521, 0.0023713761, -0...</td>\n",
              "      <td>[-0.00053622725, 0.00023643136, 0.0051033497, ...</td>\n",
              "      <td>[-0.007879351, 0.0024533845, -0.0009934164, 0....</td>\n",
              "    </tr>\n",
              "    <tr>\n",
              "      <th>...</th>\n",
              "      <td>...</td>\n",
              "      <td>...</td>\n",
              "      <td>...</td>\n",
              "      <td>...</td>\n",
              "      <td>...</td>\n",
              "      <td>...</td>\n",
              "      <td>...</td>\n",
              "      <td>...</td>\n",
              "      <td>...</td>\n",
              "      <td>...</td>\n",
              "      <td>...</td>\n",
              "      <td>...</td>\n",
              "      <td>...</td>\n",
              "      <td>...</td>\n",
              "      <td>...</td>\n",
              "      <td>...</td>\n",
              "      <td>...</td>\n",
              "      <td>...</td>\n",
              "      <td>...</td>\n",
              "      <td>...</td>\n",
              "      <td>...</td>\n",
              "    </tr>\n",
              "    <tr>\n",
              "      <th>15015</th>\n",
              "      <td>5</td>\n",
              "      <td>5.52</td>\n",
              "      <td>0</td>\n",
              "      <td>Music</td>\n",
              "      <td>Original</td>\n",
              "      <td>1</td>\n",
              "      <td>0</td>\n",
              "      <td>0</td>\n",
              "      <td>0</td>\n",
              "      <td>0</td>\n",
              "      <td>...</td>\n",
              "      <td>0</td>\n",
              "      <td>0</td>\n",
              "      <td>1</td>\n",
              "      <td>0</td>\n",
              "      <td>0</td>\n",
              "      <td>0</td>\n",
              "      <td>[-0.00030113, 0.0038219758, -0.00013590511, 0....</td>\n",
              "      <td>[0.0075038527, -0.00063257816, -0.0046589146, ...</td>\n",
              "      <td>[-0.00053622725, 0.00023643136, 0.0051033497, ...</td>\n",
              "      <td>[-0.00053622725, 0.00023643136, 0.0051033497, ...</td>\n",
              "    </tr>\n",
              "    <tr>\n",
              "      <th>15016</th>\n",
              "      <td>5</td>\n",
              "      <td>5.52</td>\n",
              "      <td>0</td>\n",
              "      <td>Music</td>\n",
              "      <td>Original</td>\n",
              "      <td>0</td>\n",
              "      <td>0</td>\n",
              "      <td>0</td>\n",
              "      <td>0</td>\n",
              "      <td>0</td>\n",
              "      <td>...</td>\n",
              "      <td>0</td>\n",
              "      <td>0</td>\n",
              "      <td>1</td>\n",
              "      <td>0</td>\n",
              "      <td>0</td>\n",
              "      <td>0</td>\n",
              "      <td>[-0.002198061, 0.0022400143, -0.0001623089, -0...</td>\n",
              "      <td>[0.009823671, 0.006244389, 0.004912238, 0.0022...</td>\n",
              "      <td>[-0.00053622725, 0.00023643136, 0.0051033497, ...</td>\n",
              "      <td>[-0.00053622725, 0.00023643136, 0.0051033497, ...</td>\n",
              "    </tr>\n",
              "    <tr>\n",
              "      <th>15031</th>\n",
              "      <td>3</td>\n",
              "      <td>5.29</td>\n",
              "      <td>0</td>\n",
              "      <td>Special</td>\n",
              "      <td>Original</td>\n",
              "      <td>0</td>\n",
              "      <td>0</td>\n",
              "      <td>0</td>\n",
              "      <td>0</td>\n",
              "      <td>0</td>\n",
              "      <td>...</td>\n",
              "      <td>0</td>\n",
              "      <td>0</td>\n",
              "      <td>1</td>\n",
              "      <td>0</td>\n",
              "      <td>0</td>\n",
              "      <td>0</td>\n",
              "      <td>[-0.00095495634, 0.00057553774, 0.0023163885, ...</td>\n",
              "      <td>[0.00048050284, 0.0007103888, 0.0027244545, 0....</td>\n",
              "      <td>[-0.00053622725, 0.00023643136, 0.0051033497, ...</td>\n",
              "      <td>[-0.00053622725, 0.00023643136, 0.0051033497, ...</td>\n",
              "    </tr>\n",
              "    <tr>\n",
              "      <th>15042</th>\n",
              "      <td>4</td>\n",
              "      <td>6.91</td>\n",
              "      <td>1</td>\n",
              "      <td>ONA</td>\n",
              "      <td>Manga</td>\n",
              "      <td>0</td>\n",
              "      <td>0</td>\n",
              "      <td>0</td>\n",
              "      <td>0</td>\n",
              "      <td>0</td>\n",
              "      <td>...</td>\n",
              "      <td>0</td>\n",
              "      <td>0</td>\n",
              "      <td>0</td>\n",
              "      <td>0</td>\n",
              "      <td>0</td>\n",
              "      <td>0</td>\n",
              "      <td>[-0.00076304964, -0.001008537, -0.0010246095, ...</td>\n",
              "      <td>[-0.0016728224, 9.057795e-05, -0.0020517611, -...</td>\n",
              "      <td>[-0.00053622725, 0.00023643136, 0.0051033497, ...</td>\n",
              "      <td>[-0.00023748518, 0.0042191767, 0.0021141458, 0...</td>\n",
              "    </tr>\n",
              "    <tr>\n",
              "      <th>15048</th>\n",
              "      <td>0</td>\n",
              "      <td>6.25</td>\n",
              "      <td>0</td>\n",
              "      <td>TV</td>\n",
              "      <td>Original</td>\n",
              "      <td>0</td>\n",
              "      <td>0</td>\n",
              "      <td>0</td>\n",
              "      <td>0</td>\n",
              "      <td>0</td>\n",
              "      <td>...</td>\n",
              "      <td>0</td>\n",
              "      <td>0</td>\n",
              "      <td>0</td>\n",
              "      <td>0</td>\n",
              "      <td>0</td>\n",
              "      <td>0</td>\n",
              "      <td>[-0.00013861062, 0.0012542007, 0.00031824913, ...</td>\n",
              "      <td>[0.00034304737, 0.0030388813, -0.0051150382, 0...</td>\n",
              "      <td>[-0.00053622725, 0.00023643136, 0.0051033497, ...</td>\n",
              "      <td>[-0.00053622725, 0.00023643136, 0.0051033497, ...</td>\n",
              "    </tr>\n",
              "  </tbody>\n",
              "</table>\n",
              "<p>12569 rows × 52 columns</p>\n",
              "</div>"
            ],
            "text/plain": [
              "       Type  Rating  Source Type_orig Source_orig  Dementia  Slice of Life  \\\n",
              "0         0    8.81       0        TV    Original         0              0   \n",
              "1         1    8.41       0     Movie    Original         0              0   \n",
              "2         0    8.31       1        TV       Manga         0              0   \n",
              "3         0    7.34       0        TV    Original         0              0   \n",
              "4         0    7.04       1        TV       Manga         0              0   \n",
              "...     ...     ...     ...       ...         ...       ...            ...   \n",
              "15015     5    5.52       0     Music    Original         1              0   \n",
              "15016     5    5.52       0     Music    Original         0              0   \n",
              "15031     3    5.29       0   Special    Original         0              0   \n",
              "15042     4    6.91       1       ONA       Manga         0              0   \n",
              "15048     0    6.25       0        TV    Original         0              0   \n",
              "\n",
              "       Space  Parody  Military  ...  Josei  Cars  Music  Vampire  Shoujo Ai  \\\n",
              "0          1       0         0  ...      0     0      0        0          0   \n",
              "1          1       0         0  ...      0     0      0        0          0   \n",
              "2          0       0         0  ...      0     0      0        0          0   \n",
              "3          0       0         0  ...      0     0      0        0          0   \n",
              "4          0       0         0  ...      0     0      0        0          0   \n",
              "...      ...     ...       ...  ...    ...   ...    ...      ...        ...   \n",
              "15015      0       0         0  ...      0     0      1        0          0   \n",
              "15016      0       0         0  ...      0     0      1        0          0   \n",
              "15031      0       0         0  ...      0     0      1        0          0   \n",
              "15042      0       0         0  ...      0     0      0        0          0   \n",
              "15048      0       0         0  ...      0     0      0        0          0   \n",
              "\n",
              "       Historical                                   synopsis_vectors  \\\n",
              "0               0  [-0.0005842843, 0.0010318753, 0.0003277911, 0....   \n",
              "1               0  [-0.00041281452, 0.0009827461, -1.9511826e-05,...   \n",
              "2               0  [0.0004804233, 0.00017798069, 0.00081434444, 0...   \n",
              "3               0  [-0.0007236848, 0.0008979221, -0.00080057426, ...   \n",
              "4               0  [-0.00085029885, 0.0021997162, 5.6877518e-05, ...   \n",
              "...           ...                                                ...   \n",
              "15015           0  [-0.00030113, 0.0038219758, -0.00013590511, 0....   \n",
              "15016           0  [-0.002198061, 0.0022400143, -0.0001623089, -0...   \n",
              "15031           0  [-0.00095495634, 0.00057553774, 0.0023163885, ...   \n",
              "15042           0  [-0.00076304964, -0.001008537, -0.0010246095, ...   \n",
              "15048           0  [-0.00013861062, 0.0012542007, 0.00031824913, ...   \n",
              "\n",
              "                                           title_vectors  \\\n",
              "0      [-0.0035258993, -0.0076524, -0.001318773, 0.00...   \n",
              "1      [0.0014435188, -0.0047937236, -0.0007585628, 0...   \n",
              "2      [-0.0012914204, 0.009018698, -0.005590031, 0.0...   \n",
              "3      [0.0047848406, 0.00014208879, -0.001255269, -0...   \n",
              "4      [-0.0014229012, 0.0012140521, 0.0023713761, -0...   \n",
              "...                                                  ...   \n",
              "15015  [0.0075038527, -0.00063257816, -0.0046589146, ...   \n",
              "15016  [0.009823671, 0.006244389, 0.004912238, 0.0022...   \n",
              "15031  [0.00048050284, 0.0007103888, 0.0027244545, 0....   \n",
              "15042  [-0.0016728224, 9.057795e-05, -0.0020517611, -...   \n",
              "15048  [0.00034304737, 0.0030388813, -0.0051150382, 0...   \n",
              "\n",
              "                                        producer_vectors  \\\n",
              "0      [-0.0008193427, 0.00028111576, 0.0035369773, -...   \n",
              "1      [-0.003499575, -0.0029092114, 0.0023581742, -0...   \n",
              "2      [-0.0009417677, -0.0010257291, -0.0076476308, ...   \n",
              "3      [-0.0008193427, 0.00028111576, 0.0035369773, -...   \n",
              "4      [-0.00053622725, 0.00023643136, 0.0051033497, ...   \n",
              "...                                                  ...   \n",
              "15015  [-0.00053622725, 0.00023643136, 0.0051033497, ...   \n",
              "15016  [-0.00053622725, 0.00023643136, 0.0051033497, ...   \n",
              "15031  [-0.00053622725, 0.00023643136, 0.0051033497, ...   \n",
              "15042  [-0.00053622725, 0.00023643136, 0.0051033497, ...   \n",
              "15048  [-0.00053622725, 0.00023643136, 0.0051033497, ...   \n",
              "\n",
              "                                          studio_vectors  \n",
              "0      [-0.0087274825, 0.0021301615, -0.0008735442, -...  \n",
              "1      [0.009648528, 0.007324829, 0.0012616563, -0.00...  \n",
              "2      [0.0081322715, -0.004457334, -0.0010683573, 0....  \n",
              "3      [-0.0087274825, 0.0021301615, -0.0008735442, -...  \n",
              "4      [-0.007879351, 0.0024533845, -0.0009934164, 0....  \n",
              "...                                                  ...  \n",
              "15015  [-0.00053622725, 0.00023643136, 0.0051033497, ...  \n",
              "15016  [-0.00053622725, 0.00023643136, 0.0051033497, ...  \n",
              "15031  [-0.00053622725, 0.00023643136, 0.0051033497, ...  \n",
              "15042  [-0.00023748518, 0.0042191767, 0.0021141458, 0...  \n",
              "15048  [-0.00053622725, 0.00023643136, 0.0051033497, ...  \n",
              "\n",
              "[12569 rows x 52 columns]"
            ]
          },
          "execution_count": 44,
          "metadata": {},
          "output_type": "execute_result"
        }
      ],
      "source": [
        "df"
      ]
    },
    {
      "cell_type": "code",
      "execution_count": 45,
      "metadata": {
        "id": "lJHMxBJCR0y7"
      },
      "outputs": [],
      "source": [
        "bins = [0, 3, 6, 8, 10]\n",
        "labels = ['Poor', 'Average', 'Good', 'Excellent']\n",
        "df['Rating_category'] = pd.cut(df['Rating'], bins=bins, labels=labels)\n",
        "df = df.drop('Rating', axis=1)"
      ]
    },
    {
      "cell_type": "code",
      "execution_count": 46,
      "metadata": {
        "id": "ID_FiqGpSuVI"
      },
      "outputs": [],
      "source": [
        "# replace categorical values with numerical values\n",
        "df['Rating_category'] = df['Rating_category'].replace({'Poor': 0, 'Average': 1, 'Good': 2, 'Excellent': 3})"
      ]
    },
    {
      "cell_type": "code",
      "execution_count": 47,
      "metadata": {
        "id": "HeRe7ncbYsMb"
      },
      "outputs": [],
      "source": [
        "from sklearn.model_selection import train_test_split\n",
        "from sklearn.metrics import accuracy_score\n",
        "\n",
        "# Split the data into training and testing sets\n",
        "y = df['Rating_category']\n",
        "X_train, X_test, y_train, y_test = train_test_split(X, y, test_size=0.2, random_state=42)"
      ]
    },
    {
      "cell_type": "code",
      "execution_count": 48,
      "metadata": {
        "id": "OOcv7_myZXLk"
      },
      "outputs": [],
      "source": [
        "import lightgbm as lgb\n",
        "\n",
        "params = {\n",
        "    'learning_rate': 0.1,\n",
        "    'max_depth': 5,\n",
        "    'min_child_samples': 30,\n",
        "    'n_estimators': 200,\n",
        "    'num_leaves': 30\n",
        "}\n",
        "clf = lgb.LGBMClassifier(**params)"
      ]
    },
    {
      "cell_type": "code",
      "execution_count": 49,
      "metadata": {
        "colab": {
          "base_uri": "https://localhost:8080/"
        },
        "id": "NGwHxCiD4YFM",
        "outputId": "1766b7f2-7525-446a-d78b-784aeab142ab"
      },
      "outputs": [
        {
          "name": "stdout",
          "output_type": "stream",
          "text": [
            "Accuracy: 0.7684964200477327\n"
          ]
        }
      ],
      "source": [
        "from sklearn.ensemble import BaggingClassifier\n",
        "# Create a bagging classifier using the Random Forest model\n",
        "bagging_clf = BaggingClassifier(estimator=clf, n_estimators=10, random_state=42)\n",
        "\n",
        "# Train the bagging classifier on the training data\n",
        "bagging_clf.fit(X_train, y_train)\n",
        "\n",
        "# Make predictions on the test set using the bagging classifier\n",
        "y_pred = bagging_clf.predict(X_test)\n",
        "\n",
        "# Calculate the accuracy of the model\n",
        "accuracy = accuracy_score(y_test, y_pred)\n",
        "print(f\"Accuracy: {accuracy}\")\n"
      ]
    },
    {
      "cell_type": "code",
      "execution_count": 50,
      "metadata": {
        "colab": {
          "base_uri": "https://localhost:8080/"
        },
        "id": "ybMTFqTM8BHs",
        "outputId": "8496c323-0031-481d-e843-023d29fd142a"
      },
      "outputs": [
        {
          "data": {
            "text/plain": [
              "['bagging_clf_final.pkl']"
            ]
          },
          "execution_count": 50,
          "metadata": {},
          "output_type": "execute_result"
        }
      ],
      "source": [
        "joblib.dump(bagging_clf, 'bagging_clf_final.pkl')"
      ]
    },
    {
      "cell_type": "code",
      "execution_count": 51,
      "metadata": {
        "id": "hEBi2yHwuYok"
      },
      "outputs": [
        {
          "name": "stdout",
          "output_type": "stream",
          "text": [
            "Accuracy: 0.7601431980906921\n"
          ]
        },
        {
          "data": {
            "text/plain": [
              "['clf_final.pkl']"
            ]
          },
          "execution_count": 51,
          "metadata": {},
          "output_type": "execute_result"
        }
      ],
      "source": [
        "import lightgbm as lgb\n",
        "# 'learning_rate': 0.1, 'n_estimators': 200, 'num_leaves': 30\n",
        "# Create and train a LightGBM classifier\n",
        "clf = lgb.LGBMClassifier(**params)\n",
        "clf.fit(X_train, y_train)\n",
        "\n",
        "# Make predictions on the test set\n",
        "y_pred = clf.predict(X_test)\n",
        "\n",
        "# Calculate the accuracy of the model\n",
        "accuracy = accuracy_score(y_test, y_pred)\n",
        "print(f\"Accuracy: {accuracy}\")\n",
        "\n",
        "joblib.dump(clf, 'clf_final.pkl')"
      ]
    }
  ],
  "metadata": {
    "colab": {
      "provenance": []
    },
    "kernelspec": {
      "display_name": "venv",
      "language": "python",
      "name": "python3"
    },
    "language_info": {
      "codemirror_mode": {
        "name": "ipython",
        "version": 3
      },
      "file_extension": ".py",
      "mimetype": "text/x-python",
      "name": "python",
      "nbconvert_exporter": "python",
      "pygments_lexer": "ipython3",
      "version": "3.11.2"
    },
    "vscode": {
      "interpreter": {
        "hash": "5e0cd07bcc6a6cc1b5efdc628f2920aae0c583fb5f85d15b06349bfe9784f6c5"
      }
    }
  },
  "nbformat": 4,
  "nbformat_minor": 0
}
